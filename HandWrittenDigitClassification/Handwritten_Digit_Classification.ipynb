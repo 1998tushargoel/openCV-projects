{
 "cells": [
  {
   "cell_type": "code",
   "execution_count": 1,
   "metadata": {},
   "outputs": [],
   "source": [
    "import numpy as np\n",
    "import cv2"
   ]
  },
  {
   "cell_type": "raw",
   "metadata": {},
   "source": [
    "Data Preprocessing"
   ]
  },
  {
   "cell_type": "code",
   "execution_count": 2,
   "metadata": {},
   "outputs": [
    {
     "name": "stdout",
     "output_type": "stream",
     "text": [
      "The shape of our cells array: (50, 100, 20, 20)\n",
      "Accuracy is = 93.47%\n"
     ]
    }
   ],
   "source": [
    "image = cv2.imread('images/digits.png')\n",
    "gray = cv2.cvtColor(image,cv2.COLOR_BGR2GRAY)\n",
    "small = cv2.pyrDown(image)\n",
    "cells = [np.hsplit(row,100) for row in np.vsplit(gray,50)]\n",
    "x = np.array(cells)\n",
    "print (\"The shape of our cells array: \" + str(x.shape))\n",
    "# Split the full data set into two segments\n",
    "# One will be used fro Training the model, the other as a test data set\n",
    "train = x[:,:70].reshape(-1,400).astype(np.float32) # Size = (3500,400)\n",
    "test = x[:,70:100].reshape(-1,400).astype(np.float32) # Size = (1500,400)\n",
    "# Create labels for train and test data\n",
    "k = [0,1,2,3,4,5,6,7,8,9]\n",
    "train_labels = np.repeat(k,350)[:,np.newaxis]\n",
    "test_labels = np.repeat(k,150)[:,np.newaxis]\n",
    "# Initiate kNN, train the data, then test it with test data for k=3\n",
    "knn = cv2.ml.KNearest_create()\n",
    "knn.train(train, cv2.ml.ROW_SAMPLE, train_labels)\n",
    "ret, result, neighbors, distance = knn.findNearest(test, k=3)\n",
    "# Now we check the accuracy of classification\n",
    "# For that, compare the result with test_labels and check which are wrong\n",
    "matches = result == test_labels\n",
    "correct = np.count_nonzero(matches)\n",
    "accuracy = correct * (100.0 / result.size)\n",
    "print(\"Accuracy is = %.2f\" % accuracy + \"%\")"
   ]
  },
  {
   "cell_type": "code",
   "execution_count": null,
   "metadata": {},
   "outputs": [],
   "source": []
  }
 ],
 "metadata": {
  "kernelspec": {
   "display_name": "Python 3",
   "language": "python",
   "name": "python3"
  },
  "language_info": {
   "codemirror_mode": {
    "name": "ipython",
    "version": 3
   },
   "file_extension": ".py",
   "mimetype": "text/x-python",
   "name": "python",
   "nbconvert_exporter": "python",
   "pygments_lexer": "ipython3",
   "version": "3.7.2"
  }
 },
 "nbformat": 4,
 "nbformat_minor": 2
}
